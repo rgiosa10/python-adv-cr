{
 "cells": [
  {
   "cell_type": "code",
   "execution_count": 12,
   "metadata": {},
   "outputs": [
    {
     "name": "stdout",
     "output_type": "stream",
     "text": [
      "['green', 'yellow', 'green', 'green', 'yellow', 'lime', 'yellow', 'aqua', 'yellow', 'maroon', 'silver', 'black', 'navy', 'olive', 'fuchsia', 'gray', 'silver', 'blue', 'teal', 'olive']\n",
      "['teal', 'fuchsia', 'gray', 'navy', 'maroon', 'silver', 'black', 'yellow', 'olive', 'lime', 'green', 'aqua', 'blue']\n",
      "{'teal': 4, 'fuchsia': 7, 'gray': 4, 'navy': 4, 'maroon': 6, 'silver': 6, 'black': 5, 'yellow': 6, 'olive': 5, 'lime': 4, 'green': 5, 'aqua': 4, 'blue': 4}\n"
     ]
    }
   ],
   "source": [
    "from faker import Faker\n",
    "import json\n",
    "\n",
    "fake = Faker()\n",
    "\n",
    "color_list = []\n",
    "\n",
    "for item in range(20): \n",
    "    color = fake.safe_color_name()\n",
    "    color_list.append(color)\n",
    "\n",
    "print(color_list)\n",
    "\n",
    "def remove_dups(list_input:list) -> list:\n",
    "    color_list_no_duplicates = list(set(color_list)) # Remove duplicates by converting to set then back to list\n",
    "    return color_list_no_duplicates\n",
    "\n",
    "color_list = remove_dups(color_list)\n",
    "print(color_list)\n",
    "\n",
    "color_dict = {color: len(color) for color in color_list}\n",
    "print(color_dict)\n",
    "\n",
    "with open(\"./data/color_data.json\", \"w\") as json_file:\n",
    "    json.dump(color_dict, json_file)\n"
   ]
  }
 ],
 "metadata": {
  "kernelspec": {
   "display_name": "Python 3.7.15 ('venv': venv)",
   "language": "python",
   "name": "python3"
  },
  "language_info": {
   "codemirror_mode": {
    "name": "ipython",
    "version": 3
   },
   "file_extension": ".py",
   "mimetype": "text/x-python",
   "name": "python",
   "nbconvert_exporter": "python",
   "pygments_lexer": "ipython3",
   "version": "3.7.15"
  },
  "orig_nbformat": 4,
  "vscode": {
   "interpreter": {
    "hash": "6a569500d400dc68e6ba26691ab6fde50e6431a4890d8016310bf3357cd2e183"
   }
  }
 },
 "nbformat": 4,
 "nbformat_minor": 2
}
