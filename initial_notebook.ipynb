{
 "cells": [
  {
   "cell_type": "code",
   "execution_count": 37,
   "metadata": {},
   "outputs": [
    {
     "name": "stdout",
     "output_type": "stream",
     "text": [
      "20: ['Red', 'LemonChiffon', 'DarkSlateGray', 'Green', 'LavenderBlush', 'Purple', 'DarkSlateGray', 'SeaShell', 'Magenta', 'PaleTurquoise', 'DeepPink', 'LightPink', 'RoyalBlue', 'LightCoral', 'YellowGreen', 'Red', 'DarkGreen', 'MediumBlue', 'LightCoral', 'Chartreuse']\n",
      "17: ['LightPink', 'YellowGreen', 'RoyalBlue', 'Purple', 'MediumBlue', 'PaleTurquoise', 'LemonChiffon', 'LavenderBlush', 'Magenta', 'Green', 'Red', 'DarkGreen', 'DeepPink', 'SeaShell', 'LightCoral', 'DarkSlateGray', 'Chartreuse']\n",
      "{'LightPink': 9, 'YellowGreen': 11, 'RoyalBlue': 9, 'Purple': 6, 'MediumBlue': 10, 'PaleTurquoise': 13, 'LemonChiffon': 12, 'LavenderBlush': 13, 'Magenta': 7, 'Green': 5, 'Red': 3, 'DarkGreen': 9, 'DeepPink': 8, 'SeaShell': 8, 'LightCoral': 10, 'DarkSlateGray': 13, 'Chartreuse': 10}\n",
      "{'LightPink': 9, 'YellowGreen': 11, 'RoyalBlue': 9, 'Purple': 6, 'MediumBlue': 10, 'PaleTurquoise': 13, 'LemonChiffon': 12, 'LavenderBlush': 13, 'Magenta': 7, 'Green': 5, 'Red': 3, 'DarkGreen': 9, 'DeepPink': 8, 'SeaShell': 8, 'LightCoral': 10, 'DarkSlateGray': 13, 'Chartreuse': 10}\n",
      "LightPink: length of color name is 9\n",
      "YellowGreen: length of color name is 11\n",
      "RoyalBlue: length of color name is 9\n",
      "Purple: length of color name is 6\n",
      "MediumBlue: length of color name is 10\n",
      "PaleTurquoise: length of color name is 13\n",
      "LemonChiffon: length of color name is 12\n",
      "LavenderBlush: length of color name is 13\n",
      "Magenta: length of color name is 7\n",
      "Green: length of color name is 5\n",
      "DarkGreen: length of color name is 9\n",
      "DeepPink: length of color name is 8\n",
      "SeaShell: length of color name is 8\n",
      "LightCoral: length of color name is 10\n",
      "DarkSlateGray: length of color name is 13\n",
      "Chartreuse: length of color name is 10\n"
     ]
    }
   ],
   "source": [
    "from faker import Faker\n",
    "import json\n",
    "\n",
    "fake = Faker()\n",
    "\n",
    "color_list = []\n",
    "\n",
    "for item in range(20): \n",
    "    color = fake.color_name()\n",
    "    color_list.append(color)\n",
    "\n",
    "print(f\"{len(color_list)}: {color_list}\")\n",
    "\n",
    "def remove_dups(list_input:list) -> list:\n",
    "    \"\"\" Takes in a list, removes duplicate items, and returns list without duplicates\n",
    "\n",
    "    Args:\n",
    "        list_input (list): list of strings\n",
    "\n",
    "    Returns:\n",
    "        list: Returns list that is absent any duplicates\n",
    "    \"\"\"\n",
    "    color_list_no_duplicates = list(set(color_list)) # Remove duplicates by converting to set then back to list\n",
    "    return color_list_no_duplicates\n",
    "\n",
    "color_list = remove_dups(color_list)\n",
    "print(f\"{len(color_list)}: {color_list}\")\n",
    "\n",
    "color_dict = {color: len(color) for color in color_list}\n",
    "print(color_dict)\n",
    "\n",
    "with open(\"./data/color_data.json\", \"w\") as json_file:\n",
    "    json.dump(color_dict, json_file)\n",
    "\n",
    "with open(\"./data/color_data.json\", \"r\") as json_file:\n",
    "    color_dict = json.load(json_file)\n",
    "    print(color_dict)\n",
    "\n",
    "    greater_four_values = [print(f\"{key}: length of color name is {value}\") for key, value in color_dict.items() if value >= 4]\n",
    "\n"
   ]
  }
 ],
 "metadata": {
  "kernelspec": {
   "display_name": "Python 3.7.15 ('venv': venv)",
   "language": "python",
   "name": "python3"
  },
  "language_info": {
   "codemirror_mode": {
    "name": "ipython",
    "version": 3
   },
   "file_extension": ".py",
   "mimetype": "text/x-python",
   "name": "python",
   "nbconvert_exporter": "python",
   "pygments_lexer": "ipython3",
   "version": "3.7.15"
  },
  "orig_nbformat": 4,
  "vscode": {
   "interpreter": {
    "hash": "6a569500d400dc68e6ba26691ab6fde50e6431a4890d8016310bf3357cd2e183"
   }
  }
 },
 "nbformat": 4,
 "nbformat_minor": 2
}
